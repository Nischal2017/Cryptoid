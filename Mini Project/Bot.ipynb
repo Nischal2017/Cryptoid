{
 "cells": [
  {
   "cell_type": "code",
   "execution_count": 1,
   "id": "b61ee2c6",
   "metadata": {},
   "outputs": [],
   "source": [
    "import sqlalchemy\n",
    "import pandas as pd\n",
    "from binance.client import Client\n",
    "import json"
   ]
  },
  {
   "cell_type": "code",
   "execution_count": 2,
   "id": "2745527f",
   "metadata": {},
   "outputs": [],
   "source": [
    "file = open(\"api.json\", \"r\")\n",
    "json1 = json.load(file)\n",
    "json1 = json1[\"Testnet1\"]"
   ]
  },
  {
   "cell_type": "code",
   "execution_count": 3,
   "id": "515b7e60",
   "metadata": {},
   "outputs": [],
   "source": [
    "client = Client(json1['api-key'],json1['secret-key'])"
   ]
  },
  {
   "cell_type": "code",
   "execution_count": 4,
   "id": "6a1233b7",
   "metadata": {},
   "outputs": [],
   "source": [
    "client.API_URL = 'https://testnet.binance.vision/api'"
   ]
  },
  {
   "cell_type": "code",
   "execution_count": 5,
   "id": "9cb507cf",
   "metadata": {},
   "outputs": [],
   "source": [
    "engine = sqlalchemy.create_engine('sqlite:///BTCUSDTstream.db')"
   ]
  },
  {
   "cell_type": "code",
   "execution_count": 6,
   "id": "5ff9a6db",
   "metadata": {},
   "outputs": [],
   "source": [
    "def strategy(entry, lookback, qty, openPosition = False):\n",
    "    while True:\n",
    "        df = pd.read_sql('BTCUSDT', engine)\n",
    "        lookbackperiod = df.iloc[-lookback:]\n",
    "        cumret = (lookbackperiod.Price.pct_change() + 1).cumprod() - 1\n",
    "        if not openPosition:\n",
    "            if cumret[cumret.last_valid_index()] > entry:\n",
    "                order = client.create_order(symbol = 'BTCUSDT',\n",
    "                                                side = 'BUY',\n",
    "                                                type = 'MARKET',\n",
    "                                                quantity = qty)\n",
    "                print(order)\n",
    "                frame = createBuySellFrame(order)\n",
    "                frame.to_sql('BUY_ORDERS', engine, if_exists = 'append', index = False)\n",
    "                openPosition = True\n",
    "                break\n",
    "    if openPosition:\n",
    "        while True:\n",
    "            df = pd.read_sql('BTCUSDT', engine)\n",
    "            sincebuy = df.loc[df.Time > pd.to_datetime(order['transactTime'], unit = 'ms')]\n",
    "            if len(sincebuy) > 1:\n",
    "                sincebuyret = (sincebuy.Price.pct_change() + 1).cumprod() -1\n",
    "                last_entry = sincebuyret[sincebuyret.last_valid_index()]\n",
    "                if last_entry > 0.0015 or last_entry < -0.0015:\n",
    "                    order = client.create_order(symbol = 'BTCUSDT',\n",
    "                                                    side = 'SELL',\n",
    "                                                    type = 'MARKET',\n",
    "                                                    quantity = qty)\n",
    "                    print(order)\n",
    "                    frame = createBuySellFrame(order)\n",
    "                    frame.to_sql('SELL_ORDERS', engine, if_exists = 'append', index = False)\n",
    "                    break"
   ]
  },
  {
   "cell_type": "code",
   "execution_count": 7,
   "id": "f1f0814f",
   "metadata": {},
   "outputs": [],
   "source": [
    "def createBuySellFrame(order):\n",
    "    df = pd.DataFrame([order])\n",
    "    df = df.loc[:,['symbol','orderId','transactTime','origQty','cummulativeQuoteQty']]\n",
    "    df.columns = ['Symbol','Order_ID','Time','Quantity','Price']\n",
    "    df.Price = df.Price.astype(float)\n",
    "    df.Quantity = df.Quantity.astype(float)\n",
    "    df.Time = pd.to_datetime(df.Time, unit ='ms')\n",
    "    return df"
   ]
  },
  {
   "cell_type": "code",
   "execution_count": 8,
   "id": "4f05b75b",
   "metadata": {},
   "outputs": [
    {
     "name": "stdout",
     "output_type": "stream",
     "text": [
      "{'symbol': 'BTCUSDT', 'orderId': 1757945, 'orderListId': -1, 'clientOrderId': 'WvHw7fajdDcZd43Es4yPLi', 'transactTime': 1641654060686, 'price': '0.00000000', 'origQty': '0.01000000', 'executedQty': '0.01000000', 'cummulativeQuoteQty': '417.87800000', 'status': 'FILLED', 'timeInForce': 'GTC', 'type': 'MARKET', 'side': 'BUY', 'fills': [{'price': '41787.80000000', 'qty': '0.01000000', 'commission': '0.00000000', 'commissionAsset': 'BTC', 'tradeId': 356637}]}\n",
      "{'symbol': 'BTCUSDT', 'orderId': 1758635, 'orderListId': -1, 'clientOrderId': 'EZP8n3BG9TI5EKW1A9CkaS', 'transactTime': 1641654216832, 'price': '0.00000000', 'origQty': '0.01000000', 'executedQty': '0.01000000', 'cummulativeQuoteQty': '416.87801349', 'status': 'FILLED', 'timeInForce': 'GTC', 'type': 'MARKET', 'side': 'SELL', 'fills': [{'price': '41702.34000000', 'qty': '0.00007100', 'commission': '0.00000000', 'commissionAsset': 'USDT', 'tradeId': 356740}, {'price': '41687.79000000', 'qty': '0.00963800', 'commission': '0.00000000', 'commissionAsset': 'USDT', 'tradeId': 356741}, {'price': '41684.63000000', 'qty': '0.00029100', 'commission': '0.00000000', 'commissionAsset': 'USDT', 'tradeId': 356742}]}\n"
     ]
    }
   ],
   "source": [
    "strategy(0.0,60,0.01)"
   ]
  }
 ],
 "metadata": {
  "kernelspec": {
   "display_name": "Python 3 (ipykernel)",
   "language": "python",
   "name": "python3"
  },
  "language_info": {
   "codemirror_mode": {
    "name": "ipython",
    "version": 3
   },
   "file_extension": ".py",
   "mimetype": "text/x-python",
   "name": "python",
   "nbconvert_exporter": "python",
   "pygments_lexer": "ipython3",
   "version": "3.8.10"
  }
 },
 "nbformat": 4,
 "nbformat_minor": 5
}
