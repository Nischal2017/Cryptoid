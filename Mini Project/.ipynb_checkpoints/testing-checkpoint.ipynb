{
 "cells": [
  {
   "cell_type": "code",
   "execution_count": 14,
   "id": "ed2ecc7c",
   "metadata": {},
   "outputs": [],
   "source": [
    "import pandas as pd\n",
    "import sqlalchemy\n",
    "from binance.client import Client\n",
    "from binance import BinanceSocketManager\n",
    "import json\n",
    "import time\n",
    "from sqlalchemy.sql import text\n",
    "from datetime import datetime"
   ]
  },
  {
   "cell_type": "code",
   "execution_count": 2,
   "id": "af3ecbd9",
   "metadata": {},
   "outputs": [],
   "source": [
    "def createframe(msg):\n",
    "    df = pd.DataFrame([msg])\n",
    "    df = df.loc[:,['s','E','p']]\n",
    "    df.columns = ['Symbol','Time','Price']\n",
    "    df.Price = df.Price.astype(float)\n",
    "    df.Time = pd.to_datetime(df.Time, unit ='ms')\n",
    "    return df"
   ]
  },
  {
   "cell_type": "code",
   "execution_count": 3,
   "id": "a089a7b6",
   "metadata": {},
   "outputs": [],
   "source": [
    "file = open(\"api.json\", \"r\")"
   ]
  },
  {
   "cell_type": "code",
   "execution_count": 4,
   "id": "53f44bf3",
   "metadata": {},
   "outputs": [],
   "source": [
    "dic1 = json.load(file)\n",
    "json1 = dic1[\"Testnet1\"]"
   ]
  },
  {
   "cell_type": "code",
   "execution_count": 5,
   "id": "5bb22817",
   "metadata": {},
   "outputs": [],
   "source": [
    "client = Client(json1[\"api-key\"],json1[\"secret-key\"] )"
   ]
  },
  {
   "cell_type": "code",
   "execution_count": 6,
   "id": "5283088a",
   "metadata": {},
   "outputs": [],
   "source": [
    "client.API_URL = 'https://testnet.binance.vision/api'"
   ]
  },
  {
   "cell_type": "code",
   "execution_count": 7,
   "id": "dab0dc76",
   "metadata": {},
   "outputs": [],
   "source": [
    "#bsm = BinanceSocketManager(client)"
   ]
  },
  {
   "cell_type": "code",
   "execution_count": 8,
   "id": "bf6a3f20",
   "metadata": {},
   "outputs": [],
   "source": [
    "#socket = bsm.trade_socket('BTCUSDT')"
   ]
  },
  {
   "cell_type": "code",
   "execution_count": 9,
   "id": "ea2c86c4",
   "metadata": {},
   "outputs": [],
   "source": [
    "engine = sqlalchemy.create_engine('sqlite:///BTCUSDTstream.db')"
   ]
  },
  {
   "cell_type": "code",
   "execution_count": 15,
   "id": "7b157250",
   "metadata": {},
   "outputs": [
    {
     "name": "stdout",
     "output_type": "stream",
     "text": [
      "    Symbol                    Time     Price\n",
      "0  BTCUSDT 2022-01-07 14:21:16.207  41785.39\n",
      "    Symbol                    Time     Price\n",
      "0  BTCUSDT 2022-01-07 14:21:17.872  41772.51\n",
      "    Symbol                    Time     Price\n",
      "0  BTCUSDT 2022-01-07 14:21:19.492  41775.14\n",
      "    Symbol                    Time     Price\n",
      "0  BTCUSDT 2022-01-07 14:21:21.034  41774.54\n",
      "    Symbol                    Time     Price\n",
      "0  BTCUSDT 2022-01-07 14:21:22.584  41775.15\n",
      "    Symbol                    Time     Price\n",
      "0  BTCUSDT 2022-01-07 14:21:24.520  41775.47\n",
      "    Symbol                    Time     Price\n",
      "0  BTCUSDT 2022-01-07 14:21:26.182  41779.88\n",
      "Deleted all rows at:2022-01-07 19:51:26.257925\n",
      "    Symbol                    Time     Price\n",
      "0  BTCUSDT 2022-01-07 14:21:28.085  41779.41\n",
      "Deleted all rows at:2022-01-07 19:51:28.226624\n",
      "    Symbol                    Time    Price\n",
      "0  BTCUSDT 2022-01-07 14:21:29.692  41768.0\n",
      "Deleted all rows at:2022-01-07 19:51:29.774691\n",
      "    Symbol                    Time    Price\n",
      "0  BTCUSDT 2022-01-07 14:21:31.378  41757.0\n",
      "Deleted all rows at:2022-01-07 19:51:31.456993\n"
     ]
    }
   ],
   "source": [
    "curr = time.time()\n",
    "x = True\n",
    "while x:\n",
    "    \n",
    "    bsm = BinanceSocketManager(client)\n",
    "    socket = bsm.trade_socket('BTCUSDT')\n",
    "    \n",
    "    await socket.__aenter__()\n",
    "    msg = await socket.recv()\n",
    "    frame = createframe(msg)\n",
    "    frame.to_sql('BTCUSDT', engine, if_exists = 'append', index = False)\n",
    "    print(frame)\n",
    "    after = time.time()\n",
    "    if after - curr > 15:\n",
    "        x = False\n",
    "    elif after - curr > 10:\n",
    "        dele = datetime.fromtimestamp(time.time())\n",
    "        print(\"Deleted all rows at:\" + str(dele))\n",
    "        with engine.connect() as con:\n",
    "            statement = text(\"\"\"DELETE FROM BTCUSDT WHERE symbol = 'BTCUSDT';\"\"\")\n",
    "            con.execute(statement)\n",
    "    \n",
    "    time.sleep(1)"
   ]
  }
 ],
 "metadata": {
  "kernelspec": {
   "display_name": "Python 3 (ipykernel)",
   "language": "python",
   "name": "python3"
  },
  "language_info": {
   "codemirror_mode": {
    "name": "ipython",
    "version": 3
   },
   "file_extension": ".py",
   "mimetype": "text/x-python",
   "name": "python",
   "nbconvert_exporter": "python",
   "pygments_lexer": "ipython3",
   "version": "3.8.10"
  }
 },
 "nbformat": 4,
 "nbformat_minor": 5
}
